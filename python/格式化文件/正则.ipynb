{
 "cells": [
  {
   "cell_type": "code",
   "execution_count": 1,
   "metadata": {
    "collapsed": true
   },
   "outputs": [
    {
     "name": "stdout",
     "output_type": "stream",
     "text": [
      "<_sre.SRE_Match object; span=(3, 5), match='12'>\n12\n3\n5\n"
     ]
    }
   ],
   "source": [
    "import re"
   ]
  },
  {
   "cell_type": "code",
   "execution_count": 18,
   "metadata": {
    "collapsed": true
   },
   "outputs": [
    {
     "name": "stdout",
     "output_type": "stream",
     "text": [
      "<_sre.SRE_Match object; span=(3, 5), match='12'>\n12\n3\n5\n"
     ]
    }
   ],
   "source": [
    "# 查找数字\n",
    "# p是制定的规则\n",
    "# 返回结果欸None表示没找到\n",
    "p = re.compile('\\d+')\n",
    "# 参数3，116是查找的范围\n",
    "m = p.match('one12two345asdfasdf1234',3,100)\n",
    "print(m) # 一个match对象\n",
    "print(m[0])  # 值\n",
    "print(m.start(0))  # 匹配到的串的起始位置\n",
    "print(m.end(0))  # 匹配成功串的结束位置\n",
    "\n",
    "# 上述代码说明的问题\n",
    "# match可以输入参数表示起始位置\n",
    "# 查找到的结果只有一个，表示第一次进行匹配成功的内容\n",
    "# match 只能匹配以xxx开头的字符串"
   ]
  },
  {
   "cell_type": "code",
   "execution_count": null,
   "metadata": {},
   "outputs": [],
   "source": []
  }
 ],
 "metadata": {
  "kernelspec": {
   "display_name": "Python 2",
   "language": "python",
   "name": "python2"
  },
  "language_info": {
   "codemirror_mode": {
    "name": "ipython",
    "version": 2
   },
   "file_extension": ".py",
   "mimetype": "text/x-python",
   "name": "python",
   "nbconvert_exporter": "python",
   "pygments_lexer": "ipython2",
   "version": "2.7.6"
  }
 },
 "nbformat": 4,
 "nbformat_minor": 0
}
